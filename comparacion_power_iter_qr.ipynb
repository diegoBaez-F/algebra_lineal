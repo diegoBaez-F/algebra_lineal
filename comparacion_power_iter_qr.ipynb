import numpy as np
import time
import pandas as pd
from scipy.sparse import random as sparse_random
from scipy.sparse import csr_matrix
from scipy.sparse.linalg import eigsh
from numpy.linalg import norm, eigvalsh, eigvals

np.random.seed(42)

resultados = []
# Configura tus tamaños de matriz aquí
n_densos = [100, 500, 1000, 3000]
n_dispersa = [1000, 3000, 5000, 10000]

for tipo in ['densa aleatoria', 'simétrica densa']:
    if tipo == 'densa aleatoria':
        sizes = n_densos
    else:
        sizes = n_densos
    for n in sizes:
        print(f"\nMatriz tipo: {tipo}, tamaño: {n}")
        if tipo == 'densa aleatoria':
            A = np.random.randn(n, n)
            # QR (eigvals)
            t0 = time.time()
            true_eigs = eigvals(A)
            t1 = time.time()
            lambda_real = np.max(np.abs(true_eigs))
            tiempo_qr = t1 - t0
            # Potencias
            b = np.random.rand(n)
            b = b / norm(b)
            t0 = time.time()
            for k in range(1, 151):
                b = np.dot(A, b)
                b = b / norm(b)
                est = np.dot(b, np.dot(A, b))
            t1 = time.time()
            lambda_pot = est
            tiempo_pot = t1 - t0
            error_pot = abs(lambda_pot - lambda_real) / abs(lambda_real)
            resultados.append([tipo, n, tiempo_pot, tiempo_qr, error_pot])
        elif tipo == 'simétrica densa':
            A = np.random.randn(n, n)
            A = (A + A.T) / 2
            t0 = time.time()
            true_eigs = eigvalsh(A)
            t1 = time.time()
            lambda_real = np.max(true_eigs)
            tiempo_qr = t1 - t0
            b = np.random.rand(n)
            b = b / norm(b)
            t0 = time.time()
            for k in range(1, 151):
                b = np.dot(A, b)
                b = b / norm(b)
                est = np.dot(b, np.dot(A, b))
            t1 = time.time()
            lambda_pot = est
            tiempo_pot = t1 - t0
            error_pot = abs(lambda_pot - lambda_real) / abs(lambda_real)
            resultados.append([tipo, n, tiempo_pot, tiempo_qr, error_pot])

for tipo in ['dispersa simétrica']:
    sizes = n_dispersa
    for n in sizes:
        print(f"\nMatriz tipo: {tipo}, tamaño: {n}")
        density = 0.0003
        S = sparse_random(n, n, density=density, format='csr', dtype=np.float64, random_state=42)
        A = (S + S.T) / 2
        t0 = time.time()
        lambda_sparse, _ = eigsh(A, k=1, which='LA')
        t1 = time.time()
        lambda_real = lambda_sparse[0]
        tiempo_qr = t1 - t0
        b = np.random.rand(n)
        b = b / norm(b)
        t0 = time.time()
        for k in range(1, 41):  # menos iteraciones porque dispersa y rápida
            b = A.dot(b)
            b = b / norm(b)
            est = b.dot(A.dot(b))
        t1 = time.time()
        lambda_pot = est
        tiempo_pot = t1 - t0
        error_pot = abs(lambda_pot - lambda_real) / abs(lambda_real)
        resultados.append([tipo, n, tiempo_pot, tiempo_qr, error_pot])

df2 = pd.DataFrame(resultados, columns=['Tipo matriz', 'n', 'Tiempo Potencias (s)', 'Tiempo QR/ARPACK (s)', 'Error relativo Potencias'])
print(df2)
